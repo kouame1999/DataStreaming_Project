{
 "cells": [
  {
   "cell_type": "code",
   "execution_count": 11,
   "metadata": {},
   "outputs": [],
   "source": [
    "from kafka import KafkaConsumer\n",
    "consumer = KafkaConsumer(\"cripto\")\n",
    "import json\n",
    "import numpy as np\n",
    "import pandas as pd\n",
    "import matplotlib.pyplot as plt\n",
    "\n",
    "\n",
    "columns = ['open_time', 'open_price', 'high_price', 'low_price', 'close_price', 'volume',\n",
    "        'close_time', 'quote_asset_volume', 'n_trades',\n",
    "        'Taker buy base asset volume', 'Taker buy quote asset volume', 'Ignore']\n",
    "n_sample = 50\n",
    "row = 0\n",
    "\n",
    "for mydata in consumer:\n",
    "    if row == n_sample:\n",
    "        break\n",
    "    data = json.loads(mydata.value)\n",
    "    df = pd.DataFrame(data,columns=columns)\n",
    "    row += 1\n",
    "df['open_time'] = pd.to_datetime(df['open_time'], unit='ms') \n",
    "df['close_time'] = pd.to_datetime(df['close_time'], unit='ms') \n",
    "df.set_index('open_time', inplace=True)\n",
    "df.to_csv(r'./data/database_cripto.csv', sep=';', index=False)"
   ]
  },
  {
   "cell_type": "code",
   "execution_count": null,
   "metadata": {},
   "outputs": [],
   "source": []
  }
 ],
 "metadata": {
  "kernelspec": {
   "display_name": "Python 3",
   "language": "python",
   "name": "python3"
  },
  "language_info": {
   "codemirror_mode": {
    "name": "ipython",
    "version": 3
   },
   "file_extension": ".py",
   "mimetype": "text/x-python",
   "name": "python",
   "nbconvert_exporter": "python",
   "pygments_lexer": "ipython3",
   "version": "3.7.3"
  }
 },
 "nbformat": 4,
 "nbformat_minor": 2
}
