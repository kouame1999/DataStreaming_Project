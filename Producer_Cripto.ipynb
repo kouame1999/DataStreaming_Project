{
 "cells": [
  {
   "cell_type": "code",
   "execution_count": null,
   "metadata": {},
   "outputs": [
    {
     "name": "stdout",
     "output_type": "stream",
     "text": [
      "Le 677ème donnée a été envoyé à Kafka avec succès!\n",
      "Le 677ème donnée a été envoyé à Kafka avec succès!\n",
      "Le 677ème donnée a été envoyé à Kafka avec succès!\n",
      "Le 677ème donnée a été envoyé à Kafka avec succès!\n",
      "Le 677ème donnée a été envoyé à Kafka avec succès!\n",
      "Le 677ème donnée a été envoyé à Kafka avec succès!\n",
      "Le 677ème donnée a été envoyé à Kafka avec succès!\n",
      "Le 677ème donnée a été envoyé à Kafka avec succès!\n",
      "Le 677ème donnée a été envoyé à Kafka avec succès!\n",
      "Le 677ème donnée a été envoyé à Kafka avec succès!\n",
      "Le 677ème donnée a été envoyé à Kafka avec succès!\n",
      "Le 677ème donnée a été envoyé à Kafka avec succès!\n",
      "Le 677ème donnée a été envoyé à Kafka avec succès!\n",
      "Le 677ème donnée a été envoyé à Kafka avec succès!\n",
      "Le 677ème donnée a été envoyé à Kafka avec succès!\n",
      "Le 677ème donnée a été envoyé à Kafka avec succès!\n",
      "Le 677ème donnée a été envoyé à Kafka avec succès!\n",
      "Le 677ème donnée a été envoyé à Kafka avec succès!\n",
      "Le 677ème donnée a été envoyé à Kafka avec succès!\n",
      "Le 677ème donnée a été envoyé à Kafka avec succès!\n",
      "Le 677ème donnée a été envoyé à Kafka avec succès!\n",
      "Le 677ème donnée a été envoyé à Kafka avec succès!\n",
      "Le 677ème donnée a été envoyé à Kafka avec succès!\n",
      "Le 677ème donnée a été envoyé à Kafka avec succès!\n",
      "Le 677ème donnée a été envoyé à Kafka avec succès!\n",
      "Le 677ème donnée a été envoyé à Kafka avec succès!\n",
      "Le 677ème donnée a été envoyé à Kafka avec succès!\n",
      "Le 677ème donnée a été envoyé à Kafka avec succès!\n",
      "Le 677ème donnée a été envoyé à Kafka avec succès!\n",
      "Le 677ème donnée a été envoyé à Kafka avec succès!\n",
      "Le 677ème donnée a été envoyé à Kafka avec succès!\n",
      "Le 677ème donnée a été envoyé à Kafka avec succès!\n",
      "Le 677ème donnée a été envoyé à Kafka avec succès!\n"
     ]
    }
   ],
   "source": [
    "import time\n",
    "import json \n",
    "import requests\n",
    "\n",
    "from kafka import KafkaProducer\n",
    "\n",
    "\n",
    "producer = KafkaProducer(bootstrap_servers=\"localhost:9092\", value_serializer=lambda v: json.dumps(v).encode('utf-8'))\n",
    "topic_name = \"cripto\"\n",
    "\n",
    "request = 'https://api.binance.com/api/v3/klines'\n",
    "\n",
    "params = dict({\n",
    "    'symbol':'BTCUSDT',\n",
    "    'interval':'1m',\n",
    "    'limit':'500'\n",
    "})\n",
    "\n",
    "\n",
    "\n",
    "while 1:\n",
    "    \n",
    "    response = rep = requests.get(request, params=params)\n",
    "    for i,res in enumerate(rep):\n",
    "        df=rep.json()\n",
    "        producer.send(topic_name,df)\n",
    "    print(f'Le {i}ème donnée a été envoyé à Kafka avec succès!')\n",
    "    time.sleep(10)"
   ]
  },
  {
   "cell_type": "code",
   "execution_count": null,
   "metadata": {},
   "outputs": [],
   "source": []
  }
 ],
 "metadata": {
  "kernelspec": {
   "display_name": "Python 3",
   "language": "python",
   "name": "python3"
  },
  "language_info": {
   "codemirror_mode": {
    "name": "ipython",
    "version": 3
   },
   "file_extension": ".py",
   "mimetype": "text/x-python",
   "name": "python",
   "nbconvert_exporter": "python",
   "pygments_lexer": "ipython3",
   "version": "3.7.3"
  }
 },
 "nbformat": 4,
 "nbformat_minor": 2
}
